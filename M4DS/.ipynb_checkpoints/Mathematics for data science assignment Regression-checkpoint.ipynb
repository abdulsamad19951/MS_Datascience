{
 "cells": [
  {
   "cell_type": "markdown",
   "metadata": {},
   "source": [
    "# Import Imports"
   ]
  },
  {
   "cell_type": "code",
   "execution_count": null,
   "metadata": {},
   "outputs": [],
   "source": []
  },
  {
   "cell_type": "markdown",
   "metadata": {},
   "source": [
    "### Q2 : Consider function f(x,y) = (x-y)^2 +x*y. Run gradient descent using initial (x,y) =(2,3), T= 20 steps and learning rate = 0.05"
   ]
  },
  {
   "cell_type": "code",
   "execution_count": null,
   "metadata": {},
   "outputs": [],
   "source": [
    "#Assign variables\n",
    "x = 2\n",
    "y = 3\n",
    "learning_rate = 0.05\n",
    "steps = 20\n",
    "\n",
    "for iteration in range(20):\n",
    "    function_output = ((x-y)**2) + (x*y)\n",
    "    \n",
    "#Calcualte partial derivatives\n",
    "    \n",
    "    derivative_x = 2(x-y) + y\n",
    "    derivative_y = -2(x-y) + x\n",
    "    \n",
    "#Calculate updated X and Y\n",
    "    x = x -( learning_rate * derivative_x )\n",
    "    y = y -( learning_rate * derivative_y )\n",
    "    "
   ]
  }
 ],
 "metadata": {
  "kernelspec": {
   "display_name": "Python 3",
   "language": "python",
   "name": "python3"
  },
  "language_info": {
   "codemirror_mode": {
    "name": "ipython",
    "version": 3
   },
   "file_extension": ".py",
   "mimetype": "text/x-python",
   "name": "python",
   "nbconvert_exporter": "python",
   "pygments_lexer": "ipython3",
   "version": "3.8.3"
  }
 },
 "nbformat": 4,
 "nbformat_minor": 4
}
